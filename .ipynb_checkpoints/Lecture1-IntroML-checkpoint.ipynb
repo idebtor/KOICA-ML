{
 "cells": [
  {
   "cell_type": "markdown",
   "metadata": {},
   "source": [
    "# Introduction to Machine Learning\n"
   ]
  },
  {
   "cell_type": "markdown",
   "metadata": {},
   "source": [
    "Artificial intelligence (AI) is not a new concept, it is been around for decades, and still, it is much unexplored. Did you know that the first ideas revolving AI can be traced back to the ‘40s? Nevertheless, it is still a field that is in its infancy and a concept that we still don’t know a lot about. There is a lot of controversy revolving this topic, too. While part of the community is ready to strike with full force ahead into a huge uncharted territory that is AI, part of community raises some serious questions and ethical dilemmas. For example, Stephen Hawking and Elon Musk publicly declared their fears and worries, while Mark Zuckerberg and Ray Kurzweil, on the other hand, are ready to become cyborgs. Still, the world doesn’t wait for anyone, and the world of AI is waiting even less, so here we are.\n",
    "\n",
    "What is actually AI? Just like with any emerging field, this simple question still has no clear answer. However, we can describe what the main goals of AI are, (apart from destroying humanity, of course:)). There are categories of problems, problems with many subtle factors that we cannot describe with an algorithm. These problems we, as humans, know how to solve by learning and computers don’t have this ability.\n",
    "\n",
    "I'll show you two problems, and you will decide which one of them should be resolved. However, the time given to solve\n",
    "that one problem is one second. Here's problem one, problem two. \n",
    "\n",
    "<table><tr>\n",
    "    <td> <img src=\"images/man_cat1.png\" width=\"400\"> </td> \n",
    "<td><img src=\"images/man_cat2.png\" width=\"400\"/></td> \n",
    "    </tr>    </table>\n",
    "<center> Figure 1: Multiplication and Image Recogintion (Source:Jim Wilson, The New York Times, 2012)</center>"
   ]
  },
  {
   "cell_type": "markdown",
   "metadata": {},
   "source": [
    "What's your choice? Sure, problem two. If you're human, then of course you're going to choose question number two. If you were a computer, you would choose Problem 1 Why is that? Have you ever thought about it? You can recognize people and cats\n",
    "more easily than multiplication, and computers can multiply better than recognize people and cats.\n",
    "\n",
    "What's the difference between the two? Why does a computer multiply better than we do, but can’t recognize a cat? To understand this, you need to think about what a computer is good at or isn't. What a computer does best is to calculate addition and subtraction at an extremely high rate. However, computers have their downside, the downside is that computers only work as they are made. If the input is multiplication or addition, it performs excellently. The programmer has no problem coding it. However, if the input is a media, such as a cat picture, there will be a wide variety of input values.  For example, even if a cat looks different it should be recognized as a cat, even if its fur color is different, or if its running and not stationary it should still be recognized as a cat. While programmers should take this input into account, this is not possible. So, for the past 50 years, it's been difficult to figure out how to recognize objects on the computer."
   ]
  },
  {
   "cell_type": "markdown",
   "metadata": {},
   "source": [
    "<table><tr>\n",
    "    <td> <img src=\"images/man_cat1.png\" width=\"300\"> </td> \n",
    "<td><img src=\"images/man_cat3.png\" width=\"400\"/></td> \n",
    "    </tr>    </table>\n",
    "<center> Figure 2: Multiplication and Cat recognition</center>"
   ]
  },
  {
   "cell_type": "markdown",
   "metadata": {},
   "source": [
    "It's a different story now. Because of machine learning, computers have finally begun to recognize cats. Within decades of the invention of computers, it can incrementally perceive the world just as humans do. That is, if we use a lot of data to \" teach\" the computer. For example, in 2012, Google engineers and Stanford professor Andrew Ng published a study. 10 million Internet images (200 x200), 1,000 computers(1,600 cores) were used to recognize the cat. What was so important that the New York Times reported it? The most important thing in this presentation was that the computer learned to distinguish cats by learning by ifself, not by a special program to distinguish cats. We should consider why it's so special and why machine learning is receiving all the spotlight right now. To expalin this,  we should understand the difference  between machine learning and coding  It'll help in understanding the importance.  \n",
    "\n",
    "- [How many computers to identify a cat?](https://www.nytimes.com/2012/06/26/technology/in-a-big-network-of-computers-evidence-of-machine-learning.html), New York Times, 2012\n",
    "- [Building high-level features using large scale unsupervised learning](https://arxiv.org/abs/1112.6209), by Andrew Y. Ng, 2012"
   ]
  },
  {
   "cell_type": "markdown",
   "metadata": {},
   "source": [
    "# Difference between Traditional Programming and Machine Learning\n",
    "\n",
    "The traditional code works on a rule-base  and so the programmer writes the code,  and the computer performs  according to the code.  For example,  if you create a program that  distinguishes spam mail,  you need to set rules and code  how the programmer will handle each  word that that is found in spam mail.  Then, when the mail comes in,  the computer calculates how many of the  spam classification words are in the mail  and processes it as spam.  The programmer has to learn spam,  and then he has to code his knowledge  and tell the computer what to do with it.  \n",
    "\n",
    "However, machine learning is not like that  Machine learning means that machines can  make themselves capable of  determining which email is spam.  It's amazing how computers  __learn__ by themselves.  This is why people are worried that  something terrible has started.  To improve the performance  of traditional programs,  programmers must find new rules  and add coding for each of them.  The problem was that humans  could write code for spam,  but not a code which differentiates cats.  Why can't I write the code?  Because there are so many kinds of cats  it was impossible to characterize every  cat in the world by traditional code.  However, with machine learning,  your computer can learn to distinguish spam  by learning the spam e-mails that  are stored in your spam mailbox.  It can learn to recognize cats  that is, if it is given enough data.  But what's even more surprising  is that the algorithm which distinguishes  spam and cats are pretty much similar.  The more spam you have,  the computer categorizes spam better.  Because it can educate itself much better.  \n",
    "\n",
    "Here is an example where a simple creature [learns](https://www.youtube.com/watch?v=Gl3EjiVlz_4) how to jump by itself.\n",
    "\n",
    "Now with this machine learning technology,  autonomous driving has become possible.  And as we all know,  computers not only play Go  on a grandmaster level,  but also can diagnose diseases like doctors,  provide legal services on behalf of lawyers,  and act as investment agents.  Machine learning may not be able  to surpass humans in every way,  but machine learning is a very close to  the dream of artificial intelligence.  "
   ]
  },
  {
   "cell_type": "markdown",
   "metadata": {},
   "source": [
    "# Definition of Machine Learning\n",
    "\n",
    "So how do you define machine learning?  Today, I don't think we need to worry.  About 60 years ago,  Arthur Samuel, in 1959,  defined machine learning, __\"Field of Study that gives  computers the ability  to learn without being  explicitly programmed\"__  What we will be able to do  better through machine learning  will depend on our imagination.  In addition to machine learning,  you also hear a lot of words like  artificial intelligence and deep learning  and these terms need to be summarized.  First, artificial intelligence  is a very old term,  and it's quite comprehensive.  Sixty years ago,  scientists had already talked about  artificial intelligence (AI),  and it has been widely used in  a broad sense up to this day.  Machine learning is a field of  such artificial intelligence,  and it can be thought of as a  method of learning using data.  Deep learning, which has  been developing rapidly  over the past decade or so,  is a field of machine learning using a  multi-layer artificial neural ANN algorithm.  "
   ]
  },
  {
   "cell_type": "markdown",
   "metadata": {},
   "source": [
    "__In summary__:\n",
    "> __AI__ is the broadest term, ­applying to any technique that enables computers to mimic human intelligence, using logic, if-then rules, decision trees, and machine learning (including deep learning).\n",
    "\n",
    "> __ML__ is the subset of AI that includes abstruse statistical techniques that enable machines to improve at tasks with experience. It includes deep learning.\n",
    "\n",
    "> __DL__ is the subset of machine learning composed of algorithms that permit software to train itself to perform tasks, like speech and image recognition, by exposing multilayered neural networks to vast amounts of data."
   ]
  },
  {
   "cell_type": "markdown",
   "metadata": {},
   "source": [
    "<img src=\"images/AI_ML_DL_diagram.PNG\"  width=\"400\">\n",
    "<center> Figure 3: Deep learning, Machine Learning, and Artficial Intenlligence</center>"
   ]
  },
  {
   "cell_type": "markdown",
   "metadata": {},
   "source": [
    "# A few different types of Machine Learning\n",
    "\n",
    "There are a few different types of machine learning  In short, machine learning is a  methodology for training computers.  You can divide machine learning  into three major categories  according to how they learn.  \n",
    "\n",
    "- Supervised Learning\n",
    "    - Classification\n",
    "        - Binary Classification\n",
    "        - Multiclass Classification\n",
    "    - Regression\n",
    "- Unsupervised Learning\n",
    "- Reinforcement Learning"
   ]
  },
  {
   "cell_type": "markdown",
   "metadata": {},
   "source": [
    "## Supervised Learning\n",
    "\n",
    "First, it's supervised learning.  Here are 100 hand-written images  A label tells you what  number each image is - supervised learning is the methodology  of the computer repeatedly learning  with learning materials labeled for it.  And after learning,  It compares the prediction  and actual labels  and receive feedback on how well it  performed and repeats the learning process.  The characteristic of  supervised learning is that  you can repeat learning  by getting feedback  on whether you correctly  predicted the expected value  versus the actual correct label.  \n",
    "\n",
    "<table><tr>\n",
    "    <td> <img src=\"images/CodingNNfigure3.gif\" width=\"400\"> </td> \n",
    "<td><img src=\"images/CodingNNfigure17.gif\" width=\"400\"/></td> \n",
    "    </tr>    </table>\n",
    "    <img src=\"images/supervised_learning.png\" width=\"400\"> \n",
    "<center>Figure 4: Supervised Learning: Binary & Multiclass Classifications </center>\n",
    "\n",
    "Examples of supervised learning are, to separate different data, to recognize objects, and to predict tomorrow’s weather with today’s weather. If we are to classify data into two categories, these are called a classification. A regression is a learning method that gives a computer problems to learn the pattern.  So, in the end,  the computer can predict the right answer to a pattern that it hasn't experienced.  What we just saw was an example  of classification.  "
   ]
  },
  {
   "cell_type": "markdown",
   "metadata": {},
   "source": [
    "### Regression\n",
    "\n",
    "Regression is predicting a continuous  value (real number, error).  For example,  the problem of predicting weight for a  person in the picture is regression.  Using height to estimate weight or house area to estimate housing  prices is also a regression issue.  As another example,  the computer is given information  of quiz grade according to their  study times and made to learn.  It is regression that the computer learns  and prepares for the best answer.  And we can ask computers  to predict the quiz scores of students who  have studied for two and a half hours.  It's a kind of supervised learning.  \n",
    "\n",
    "<table><tr>\n",
    "    <td> <img src=\"images/linear_regression1.png\" width=\"400\"> </td> \n",
    "<td><img src=\"images/linear_regression2.png\" width=\"400\"/></td> \n",
    "    </tr>    </table>\n",
    "<center>Figure 5: Linear Regression (Study Hours vs Exam Scores) </center>"
   ]
  },
  {
   "cell_type": "markdown",
   "metadata": {},
   "source": [
    "## Unsupervised Learning\n",
    "\n",
    "Next is unsupervised learning.  unsupervised learning is a learning method  in which a computer  creates models by itself  there are no labels  There are learning materials,  but it must learn by itself without  labels (explicit answers).  A learning method in which  computers can practice a variety of methods  and find patterns in the data itself.  I introduced in the beginning of the course the computer learns to recognize and classify the cat as a cat with 10 million images.  This was an example of  unsupervised learning.  Analyzing newspaper articles  to group political, economic,  and current news stories  is part of unsupervised learning.  Another example would be  to automatically classify a given  number of images into different genres  without any clue that's  also unsupervised learning.\n",
    "\n",
    "<img src=\"images/Kmeans_animation_withoutWatermark.gif\"  width=\"300\">\n",
    "<center>그림 6: 비지도학습-군집화 </center>\n",
    "<center> 출처: https://ko.wikipedia.org/wiki/K-평균_알고리즘</center>"
   ]
  },
  {
   "cell_type": "markdown",
   "metadata": {},
   "source": [
    "## Reinforcement Learning\n",
    "\n",
    "Now, there's also something  called reinforced learning  Reinforced learning is  learning in a given environment,  in a way that maximizes rewards  by properly rewarding the action.  It's often used for unclear questions  as to what action has  influenced the result.\n",
    "\n",
    "\n",
    "<img src=\"images/reinforcement_learning.png\"  width=\"400\">\n",
    "<center>Figure 7: Reinforcement Learning: </center>\n",
    "\n",
    "\n",
    "For example,  the subject of action is called a \"puppy\"  and the \"food machine\" is an environment.  At first, the dog doesn't  understand what a food machine is  it knows that it smells  but it just doesn't know how to eat  But through various actions  such as pressing the button  or pulling something  it learns to eat from the machine.  It's learning.  It learned this by being  rewarded for its behavior.  Reinforced learning is a  learning method which rewards  while being rewarded for its actions  and continues to act (policy)  towards the maximum reward.  There's another good example.  It's AlphaGo  which played a game against professional  Go player Lee Se-dol in March 2016.  There are so many Go plays  that no computer on Earth can  calculate the number of cases in Go.  However, AlphaGo learned to compensate  for its good plays through  reinforcement learning.  It was learning by watching  countless numbers of play records.  This is a record from the fourth play  It's the fourth out of five plays  People commented there was one \"play by God\" in the fourth game.  Do you remember which play it was?  It was the 78th play.  \n",
    "\n",
    "\n",
    "<img src=\"images/leesedo-alphago78.png\"  width=\"300\">\n",
    "<center>Figure 8: Reinforcement Learning: Go game</center>\n",
    "\n",
    "\n",
    "Do you know that the word  the \"play by God\" derives from the bible?  But in the Bible, it's not a \"play by God\", but it's a numerous plays of God.  Psalm 139:17 \"How precious to me are your thoughts, God!  How vast is the sum of them!\"  Here's a  nonsense quiz.  How many stones are there in Go?  Are you counting now?  There are three stones in Go.  White stone, black stone, and Mr. Lee Se-dol (dol in Korean for stone).  "
   ]
  },
  {
   "cell_type": "markdown",
   "metadata": {},
   "source": [
    "# Some applications\n",
    "\n",
    "<img src=\"images/DeepMind.png\"  width=\"300\">\n",
    "<center>Figure 9: [Reinforcement Learning: Atari Breakout](https://www.youtube.com/watch?v=V1eYniJ0Rnk)</center>\n",
    "\n",
    "There was a company called DeepMind, in the United Kingdom. In 2014 it announced the process of learning the break out game with reinforced learning. Only scores and pixel displays were given to the computer as inputs.  The computer started the game without  even knowing the rules of the game  The Computer doesn’t know what to do,  and has a hard time receiving the  ball for the first 10 minutes.  It's clumsy.  but after 10 minutes,  it sees the score rise  It starts getting better.  It still clumsy. It's getting better.  Now we'll see what happend.  After 120 minutes later, it's now pretty good. It's learned to this by itself.  Lets see what happens 4 hours later.  It's amazing.  It's been learning for 4 hours  Not only does it receive it well...  after 4 hours. Lets see how it breaks the bricks. It's learned to focus on one spot and drill into the wall to score more.  It's amazing.\n",
    "\n",
    "What happens later is also amazing later after this event. Google took over DeepMind. Two years later, in 2016, DeepMind visits Korea and  plays a match with Mr. Lee  and won 4:1.  Recently, I heard that AlphaGo from DeepMind is retired since there was no match for AlphaGo anymore.  "
   ]
  },
  {
   "cell_type": "markdown",
   "metadata": {},
   "source": [
    "# Conclusion\n",
    "\n",
    "In today's first lecture,  we looked at what machine learning is,  and we looked at the different  methods of machine learning.  Machine learning is about  making computers have  the learning ability  to learn on their own.  Types of machine learning include  supervised, unsupervised,  reinforced learning.  Some terms are unfamiliar  and may not make sense.  That's all right.  During future lectures, you  will become familiar with  many of the terms we use  frequently and repeatedly.  The topics we dealt with are the basic concepts and some terminologies in machine learning.  "
   ]
  },
  {
   "cell_type": "markdown",
   "metadata": {},
   "source": []
  },
  {
   "cell_type": "markdown",
   "metadata": {},
   "source": [
    "# References: \n",
    "\n",
    "- [Introduction to Artificial Neural Networks](https://rubikscode.net/2017/11/13/introduction-to-artificial-neural-networks/)\n",
    "- [\"Make your own neural network\" by  Tariq Rashid](http://makeyourownneuralnetwork.blogspot.com/)\n"
   ]
  }
 ],
 "metadata": {
  "kernelspec": {
   "display_name": "Python 3",
   "language": "python",
   "name": "python3"
  },
  "language_info": {
   "codemirror_mode": {
    "name": "ipython",
    "version": 3
   },
   "file_extension": ".py",
   "mimetype": "text/x-python",
   "name": "python",
   "nbconvert_exporter": "python",
   "pygments_lexer": "ipython3",
   "version": "3.6.4"
  }
 },
 "nbformat": 4,
 "nbformat_minor": 2
}
