{
 "cells": [
  {
   "cell_type": "markdown",
   "metadata": {},
   "source": [
    "# Hello World - Machine Learning Recipes # 1\n",
    "\n",
    "-------------------------"
   ]
  },
  {
   "cell_type": "markdown",
   "metadata": {},
   "source": [
    "[Watch and follow instructor Josh Gordon](https://www.youtube.com/watch?v=cKxRvEZd3Mw)       "
   ]
  },
  {
   "cell_type": "markdown",
   "metadata": {},
   "source": [
    "- Download scikit learn using Anaconda.\n",
    "- Test one line python code.\n",
    "- Run your first hello-world.py"
   ]
  },
  {
   "cell_type": "code",
   "execution_count": null,
   "metadata": {},
   "outputs": [],
   "source": [
    "from sklearn import tree"
   ]
  },
  {
   "cell_type": "markdown",
   "metadata": {},
   "source": [
    "Let's start learning ML with Google Developers. \n",
    "\n",
    "Six lines of Python is all it takes to write your first machine learning program! We'll follow a recipe for supervised learning (a technique to create a classifier from examples) and code it up. But before you begin let's understand what we are going to do using supervised learning technique."
   ]
  },
  {
   "cell_type": "markdown",
   "metadata": {},
   "source": [
    "-----------------\n",
    "\n",
    "# Problem 1. Can you differentiate apple and oranges ?"
   ]
  },
  {
   "cell_type": "markdown",
   "metadata": {},
   "source": [
    "### Classifier: \n",
    "\n",
    "Create classifier by finding patterns in examples like: weight, textures, color...\n",
    "\n",
    "Input: Description called Features                               \n",
    "Output: Labels"
   ]
  },
  {
   "cell_type": "markdown",
   "metadata": {},
   "source": [
    "__STEP 1:__ Collect Training Data\n",
    "\n",
    "- __Features__ descriminates the apples and orange in columns excluding last column. \n",
    "- __Labels__ classify apple or orange in last column. \n",
    "\n",
    "        Weight    Texture    Label\n",
    "        ------    -------    -----\n",
    "        150 gm    Bumpy      Orange\n",
    "        170 gm    Bumpy      Orange\n",
    "        140 gm    Smooth     Apple\n",
    "        130 gm    Smooth     Apple"
   ]
  },
  {
   "cell_type": "markdown",
   "metadata": {},
   "source": [
    "__STEP 2:__ Train Classifier\n",
    "\n",
    "__Fit:__ the features and label into the decison tree.\n",
    "\n",
    "__Decision Tree:__ that we can imagine with respect to texture and weight according to train data feeded to machine learning algorithm. The more training data the better classification, so that's how decision is made using a decision tree.\n",
    "\n",
    " \n",
    "             ?                          Weight > = 150 gm\n",
    "                                     Yes /           \\ No\n",
    "                                        /             \\\n",
    "             ?               Texture == Bumpy       Texture == Smooth\n",
    "                                 /     \\             /     \\\n",
    "                               Yes      No         Yes      No\n",
    "                            (Orange)  (Apple)    (Apple)  (Orange)  "
   ]
  },
  {
   "cell_type": "markdown",
   "metadata": {},
   "source": [
    "__STEP 3:__ Make Predictions\n",
    "\n",
    "The output data is value of column label. The result is predicted based on train data and training algorithm fit in scikit learn. \n"
   ]
  },
  {
   "cell_type": "code",
   "execution_count": null,
   "metadata": {},
   "outputs": [],
   "source": [
    "#decision tree is imported from package sklearn \n",
    "from sklearn import tree\n",
    "\n",
    "# apple = 0, orange=1   ----Coded for label\n",
    "# smooth = 0, bumpy=1   ----Coded for \n",
    "# input as features and label\n",
    "samples = [[140,1],[130,1],[150,0],[170,0]]\n",
    "labels = [0,0,1,1]\n",
    "\n",
    "# empty box tree\n",
    "clf = tree.DecisionTreeClassifier()\n",
    "\n",
    "# train classifier\n",
    "clf = clf.fit(samples,labels)\n",
    "\n",
    "# output \n",
    "clf.predict([[150,0]])\n",
    "\n",
    "# According as our train data heavier than 150 gm is predicted as orange else apple.\n",
    "# similarly bumpy one is orange else apple | smooth one apple else orange"
   ]
  },
  {
   "cell_type": "markdown",
   "metadata": {},
   "source": [
    "--------------------\n",
    "\n",
    "# Problem 2: Can you differentiate sports car and mini van ?"
   ]
  },
  {
   "cell_type": "markdown",
   "metadata": {},
   "source": [
    "Try next similar type of problem using the train data below:\n",
    "\n",
    "    Horse Power    Seats     Label\n",
    "    ----------------------------------\n",
    "      300 hp         2     sports car\n",
    "      450 hp         2     sports car\n",
    "      150 hp         9      mini-van\n",
    "      200 hp         8      mini-van"
   ]
  },
  {
   "cell_type": "code",
   "execution_count": 3,
   "metadata": {},
   "outputs": [
    {
     "data": {
      "text/plain": [
       "array([1])"
      ]
     },
     "execution_count": 3,
     "metadata": {},
     "output_type": "execute_result"
    }
   ],
   "source": [
    "#decision tree is imported from package sklearn \n",
    "from sklearn import tree\n",
    "\n",
    "# sports-car = 0, minivan = 1   ----Coded for label\n",
    "# horse power and seats ----for features\n",
    "# input as features and label\n",
    "samples = [[300,2],[450,2],[150,9],[200,8]]\n",
    "labels = [0,0,1,1]\n",
    "\n",
    "# empty box tree\n",
    "clf = tree.DecisionTreeClassifier()\n",
    "\n",
    "# train classifier\n",
    "clf = clf.fit(samples, labels)\n",
    "\n",
    "# output \n",
    "clf.predict([[150,10]])"
   ]
  },
  {
   "cell_type": "markdown",
   "metadata": {},
   "source": [
    "   ##### Programming ML is not so hard.\n",
    "   ##### But understanding Important Concepts is the real challenge for accuracy of the prediction.\n",
    "        How does this work in the real world?\n",
    "        How much training data do you need?\n",
    "        How is the tree created?\n",
    "        What makes a good feature?"
   ]
  },
  {
   "cell_type": "markdown",
   "metadata": {},
   "source": [
    "# Machine Learning Recipes # 2\n",
    "\n",
    "## Visualizing a Decision Tree"
   ]
  },
  {
   "cell_type": "markdown",
   "metadata": {},
   "source": [
    "[Watch and follow instructor Josh Gordon](https://www.youtube.com/watch?v=tNa99PG8hR8Watch)        "
   ]
  },
  {
   "cell_type": "markdown",
   "metadata": {},
   "source": [
    "There are many types of classifiers: Artificial neural networks, Support vector machine, Lions, Bears, Tigers, Oh my!\n",
    "Now we are starting with Decision Tree technique\n",
    "\n",
    "Before beginning lets install some important packages and the Iris Dataset."
   ]
  },
  {
   "cell_type": "markdown",
   "metadata": {},
   "source": [
    "## Preparation To Install Packages\n",
    "### pydot\n",
    "Run Anaconda prompt base make sure you have sufficient privilege to run the command. Run command\n",
    "conda install pydot\n",
    "\n",
    "Instead you can use wrapper pip:\n",
    "\n",
    "> python -m pip install pydot\n",
    "\n",
    "Upgrade pip:\n",
    "\n",
    "> python -m pip install --upgrade pip\n",
    "\n",
    "You can see the change in your source location after successful installation:\n",
    "\n",
    "> Anaconda3\\Lib\\site-packages\n",
    "\n",
    "As earlier test with a one line of code\n",
    "\n",
    "`import pydot`\n",
    "\n",
    "(Note: Problem due to missing path, add location in environment variables and restart your machine)\n",
    "\n",
    "### graphviz\n",
    "Similarly try installing graphviz\n",
    "\n",
    "### sklearn\n",
    "\n",
    "To update if required\n",
    "\n",
    "pip install -U scikit-learn"
   ]
  },
  {
   "cell_type": "markdown",
   "metadata": {},
   "source": [
    "## The Iris Dataset\n",
    "\n",
    "Classic problem iris datasets: Let's know from wiki iris_flower_data_set\n",
    "\n",
    "See [here](<https://en.wikipedia.org/wiki/Iris_flower_data_set>) for more information on this dataset.\n",
    "\n",
    "<img src=\"images/iris.png \"width=600\" \">\n",
    "<center>Figure 1. Iris plant(Setosa, Versicolor,Virginica)</center>\n",
    "\n",
    "Fisher's Iris data consists of four features: \n",
    "    - Sepal length, Sepal width, Petal length, Petal width\n",
    "Label is the species. \n",
    "    - This data sets consists of 3 different types of irises' (Setosa, Versicolour, and Virginica) petal and sepal length, stored in a 150x4 numpy.ndarray\n",
    "\n",
    "Check to see the iris data by printing following:\n",
    "\n",
    "- iris.data[0]   \n",
    "- iris.target_names[0]   \n",
    "- iris.feature_names[0]   \n",
    "- iris.feature_names   \n",
    "- iris.target_names\n",
    "\n",
    "If you want to view the real algorithm working inside follow [this link](http://scikit-learn.org/stable/auto_examples/datasets/plot_iris_dataset.html)\n",
    "\n",
    "Download and run the program to see Ipython interactive visualization."
   ]
  },
  {
   "cell_type": "markdown",
   "metadata": {},
   "source": [
    "\n",
    "- __Step 1:__ \n",
    "\n",
    "    - Download iris dataset and load. \n",
    "    - Test data and Train data is seperated here. \n",
    "    - So that later on we can compare the accuracy with prediction. \n",
    "    - Testing is a final step here.\n",
    "    \n",
    "\n",
    "- __Step 2:__ \n",
    "\n",
    "    Load decision tree as earlier and just simply copy the code to fit the empty tree so as to train classifier.\n",
    "    \n",
    "    \n",
    "- __Step 3:__ \n",
    "\n",
    "    As earlier check to see the prediction using several parameters on export_graphviz.\n",
    "    scikit documentation for export_graphviz is [here](http://scikit-learn.org/stable/modules/generated/sklearn.tree.export_graphviz.html)\n",
    "    \n",
    "\n",
    "- __Step 4:__ \n",
    "\n",
    "    Visualize and Test the prediction.\n"
   ]
  },
  {
   "cell_type": "markdown",
   "metadata": {},
   "source": [
    "__JoyDebugging__\n",
    "\n",
    "Somehow `graphviz` module is not recognized by either in `Anaconda` or `pydot`. There are a couple of ways of getting round the problem.\n",
    "\n",
    "1. [download](https://graphviz.gitlab.io/_pages/Download/Download_windows.html) and install Graphviz \n",
    "\n",
    "\n",
    "__ add the following line where you use Graphviz. __\n",
    "\n",
    "```\n",
    "import os\n",
    "os.environ[\"PATH\"] += os.pathsep + 'C:/Program Files (x86)/Graphviz2.38/bin/'\n",
    "```\n",
    "\n",
    "```\n",
    "graph = pydot.graph_from_dot_data(dot_data.getvalue())\n",
    "graph[0].write_pdf(\"iris.pdf\")\n",
    "```\n",
    "\n",
    "or\n",
    "\n",
    "1. [download](https://graphviz.gitlab.io/_pages/Download/Download_windows.html) and install Graphviz \n",
    "\n",
    "2. add the path `C:/Program Files (x86)/Graphviz2.38/bin/` to the System environment variable `PATH` in `Control Panel --> System` menu.\n",
    "\n",
    "3. __ add the following line where you use Graphviz. __\n",
    "\n",
    "\n",
    "```\n",
    "import pydotplus\n",
    "\n",
    "graph = pydotplus.graph_from_dot_data(dot_data.getvalue())\n",
    "graph.write_pdf(\"iris.pdf\")\n",
    "```"
   ]
  },
  {
   "cell_type": "code",
   "execution_count": 4,
   "metadata": {},
   "outputs": [
    {
     "name": "stdout",
     "output_type": "stream",
     "text": [
      "['sepal length (cm)', 'sepal width (cm)', 'petal length (cm)', 'petal width (cm)']\n",
      "['setosa' 'versicolor' 'virginica']\n",
      "shape:  (150, 4)  len: 150\n",
      "iris.data \n",
      " [[5.1 3.5 1.4 0.2]\n",
      " [4.9 3.  1.4 0.2]\n",
      " [4.7 3.2 1.3 0.2]\n",
      " [4.6 3.1 1.5 0.2]\n",
      " [5.  3.6 1.4 0.2]\n",
      " [5.4 3.9 1.7 0.4]\n",
      " [4.6 3.4 1.4 0.3]]\n",
      "iris.target \n",
      " [0 0 0 0 0 0 0]\n"
     ]
    },
    {
     "data": {
      "text/plain": [
       "array([0, 1, 2])"
      ]
     },
     "execution_count": 4,
     "metadata": {},
     "output_type": "execute_result"
    }
   ],
   "source": [
    "import pydot\n",
    "import numpy as np\n",
    "from sklearn import tree\n",
    "from sklearn import datasets\n",
    "\n",
    "iris = datasets.load_iris()\n",
    "\n",
    "test_idx = [0,50,100]\n",
    "\n",
    "# check to see the irish data\n",
    "print(iris.feature_names)\n",
    "print(iris.target_names)\n",
    "print('shape: ', iris.data.shape, ' len:', len(iris.data))\n",
    "print('iris.data \\n', iris.data[:7])\n",
    "print('iris.target \\n', iris.target[:7])\n",
    "\n",
    "#training data\n",
    "X_train = np.delete(iris.data, test_idx, axis=0)\n",
    "y_train = np.delete(iris.target, test_idx)\n",
    "\n",
    "#testing data\n",
    "X_test = iris.data[test_idx]\n",
    "y_test = iris.target[test_idx]\n",
    "\n",
    "clf = tree.DecisionTreeClassifier()\n",
    "clf.fit(X_train, y_train)\n",
    "\n",
    "clf.predict(X_test)"
   ]
  },
  {
   "cell_type": "code",
   "execution_count": 5,
   "metadata": {},
   "outputs": [
    {
     "name": "stdout",
     "output_type": "stream",
     "text": [
      "writing pdf\n",
      "Test X: \n",
      " [[5.1 3.5 1.4 0.2]\n",
      " [7.  3.2 4.7 1.4]\n",
      " [6.3 3.3 6.  2.5]]\n",
      "Test y: \n",
      " [0 1 2]\n"
     ]
    },
    {
     "data": {
      "text/plain": [
       "array([0, 1, 2])"
      ]
     },
     "execution_count": 5,
     "metadata": {},
     "output_type": "execute_result"
    }
   ],
   "source": [
    "######## VISULIZATION Using pydot ######################\n",
    "from sklearn.externals.six import StringIO\n",
    "import pydot\n",
    "\n",
    "import os\n",
    "os.environ[\"PATH\"] += os.pathsep + 'C:/Program Files (x86)/Graphviz2.38/bin/'\n",
    "\n",
    "dot_data = StringIO()\n",
    "tree.export_graphviz(clf,\n",
    "                    out_file=dot_data,\n",
    "                    feature_names=iris.feature_names,\n",
    "                    class_names=iris.target_names,\n",
    "                    filled=True, rounded=True,\n",
    "                    impurity=False)\n",
    "\n",
    "graph = pydot.graph_from_dot_data(dot_data.getvalue())\n",
    "graph[0].write_pdf(\"iris.pdf\")\n",
    "print('writing pdf')\n",
    "\n",
    "print('Test X: \\n', X_test)\n",
    "print('Test y: \\n', y_test)\n",
    "\n",
    "clf.predict(X_test)"
   ]
  },
  {
   "cell_type": "code",
   "execution_count": 6,
   "metadata": {},
   "outputs": [
    {
     "name": "stdout",
     "output_type": "stream",
     "text": [
      "writing pdf\n",
      "Test X: \n",
      " [[5.1 3.5 1.4 0.2]\n",
      " [7.  3.2 4.7 1.4]\n",
      " [6.3 3.3 6.  2.5]]\n",
      "Test y: \n",
      " [0 1 2]\n"
     ]
    },
    {
     "data": {
      "text/plain": [
       "array([0, 1, 2])"
      ]
     },
     "execution_count": 6,
     "metadata": {},
     "output_type": "execute_result"
    }
   ],
   "source": [
    "######## VISULIZATION using pyplotplus #################\n",
    "from sklearn.externals.six import StringIO\n",
    "import pydot\n",
    "\n",
    "dot_data = StringIO()\n",
    "tree.export_graphviz(clf,\n",
    "                    out_file=dot_data,\n",
    "                    feature_names=iris.feature_names,\n",
    "                    class_names=iris.target_names,\n",
    "                    filled=True, rounded=True,\n",
    "                    impurity=False)\n",
    "\n",
    "graph = pydot.graph_from_dot_data(dot_data.getvalue())\n",
    "graph[0].write_pdf(\"iris.pdf\")\n",
    "print('writing pdf')\n",
    "\n",
    "print('Test X: \\n', X_test)\n",
    "print('Test y: \\n', y_test)\n",
    "\n",
    "clf.predict(X_test)"
   ]
  },
  {
   "cell_type": "markdown",
   "metadata": {},
   "source": []
  },
  {
   "cell_type": "code",
   "execution_count": null,
   "metadata": {},
   "outputs": [],
   "source": []
  },
  {
   "cell_type": "code",
   "execution_count": null,
   "metadata": {},
   "outputs": [],
   "source": []
  }
 ],
 "metadata": {
  "kernelspec": {
   "display_name": "Python 3",
   "language": "python",
   "name": "python3"
  },
  "language_info": {
   "codemirror_mode": {
    "name": "ipython",
    "version": 3
   },
   "file_extension": ".py",
   "mimetype": "text/x-python",
   "name": "python",
   "nbconvert_exporter": "python",
   "pygments_lexer": "ipython3",
   "version": "3.6.4"
  }
 },
 "nbformat": 4,
 "nbformat_minor": 2
}
