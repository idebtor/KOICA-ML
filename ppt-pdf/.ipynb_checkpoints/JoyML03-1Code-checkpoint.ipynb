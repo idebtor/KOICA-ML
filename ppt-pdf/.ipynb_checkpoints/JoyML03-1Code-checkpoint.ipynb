{
 "cells": [
  {
   "cell_type": "markdown",
   "metadata": {},
   "source": [
    "# Week 3-1 Artificial Neuron\n",
    "#### Machine Learning with Python by idebtor@gmail.com\n",
    "\n",
    "## AND Neuron Implementation"
   ]
  },
  {
   "cell_type": "markdown",
   "metadata": {},
   "source": [
    "In the following AND() function, set the return value of None properly such that it produces AND logic. 아래의 AND() 함수의 반환값 None을 알맞게 수정하십시오."
   ]
  },
  {
   "cell_type": "code",
   "execution_count": 2,
   "metadata": {},
   "outputs": [],
   "source": [
    "import numpy as np\n",
    "def AND(x1, x2):\n",
    "    x = np.array([1, x1, x2])      # input\n",
    "    w = np.array([-0.7, 0.5, 0.5]) # bias, weight\n",
    "    return "
   ]
  },
  {
   "cell_type": "code",
   "execution_count": 2,
   "metadata": {},
   "outputs": [
    {
     "name": "stdout",
     "output_type": "stream",
     "text": [
      "AND(0, 0) =  0\n",
      "AND(0, 1) =  0\n",
      "AND(1, 0) =  0\n",
      "AND(1, 1) =  1\n"
     ]
    }
   ],
   "source": [
    "print(\"AND(0, 0) = \", AND(0, 0))\n",
    "print(\"AND(0, 1) = \", AND(0, 1))\n",
    "print(\"AND(1, 0) = \", AND(1, 0))\n",
    "print(\"AND(1, 1) = \", AND(1, 1))"
   ]
  },
  {
   "cell_type": "markdown",
   "metadata": {},
   "source": [
    "## AND Neuron Visualization\n",
    "The following code cell displays a straight line or a classifier. 다음 코드는 하나의 직선을 그리며, 강의에서 분류자라고 불렀습니다."
   ]
  },
  {
   "cell_type": "code",
   "execution_count": 3,
   "metadata": {},
   "outputs": [
    {
     "data": {
      "image/png": "[encoded data removed]",
      "text/plain": [
       "<Figure size 432x288 with 1 Axes>"
      ]
     },
     "metadata": {
      "needs_background": "light"
     },
     "output_type": "display_data"
    }
   ],
   "source": [
    "import matplotlib.pyplot as plt  \n",
    "%matplotlib inline\n",
    "import numpy as np\n",
    "\n",
    "#define the line or classifier first \n",
    "w1 = 0.5\n",
    "w2 = 0.5\n",
    "b = -0.7\n",
    "x1 = np.arange(-2.5, 3.5, .5)\n",
    "x2 = -b/w2 - w1/w2*x1\n",
    "    \n",
    "# code to plot the line b + w_1 x_1 + w_2 x_2 = 0\n",
    "plt.plot(x1, x2)    \n",
    "plt.axhline(0, color='black', linewidth=1)\n",
    "plt.axvline(0, color='black', linewidth=1)\n",
    "plt.axis('equal')\n",
    "plt.grid(True)\n",
    "plt.xlabel('x1')\n",
    "plt.ylabel('x2')\n",
    "#plt.savefig('images\\weights_bias.png')\n",
    "plt.show()"
   ]
  },
  {
   "cell_type": "markdown",
   "metadata": {},
   "source": [
    "## Classification and Classifier\n",
    "\n",
    "- Add the code to plot the line (or classifier) copied from the cell above. 위의 직선을 그리는 코드 내용을 아래 코드 셀 끝에 복사해서 넣어주세요\n",
    "- Try to run the following code with some different value of seed in np.random.seed(0) and observe how the classifier works. seed(0)에서 0 대신에 다른 값들을 넣어서 실행해보십시오.\n",
    "- Why does it plot dots less than ndots = 6 sometimes?  종종 점들이 약간 모자라게 보이는데 왜 그럴까요? 항상 ndots만큼 보이도록 코드를 수정해보십시오."
   ]
  },
  {
   "cell_type": "code",
   "execution_count": 6,
   "metadata": {},
   "outputs": [
    {
     "data": {
      "image/png": "[encoded data removed]",
      "text/plain": [
       "<Figure size 432x288 with 1 Axes>"
      ]
     },
     "metadata": {
      "needs_background": "light"
     },
     "output_type": "display_data"
    }
   ],
   "source": [
    "import matplotlib.pyplot as plt  \n",
    "%matplotlib inline\n",
    "import numpy as np\n",
    "\n",
    "#define the line or classifier first \n",
    "w1 = 0.5\n",
    "w2 = 0.5\n",
    "b = -0.7\n",
    "x1 = np.arange(-2.5, 3.5, .5)\n",
    "x2 = -b/w2 - w1/w2*x1\n",
    "\n",
    "# code to plot some random dots based on the classifier\n",
    "ndots = 6\n",
    "np.random.seed(20)   \n",
    "px1 = [np.random.randint(-2, 5) for _ in np.arange(ndots)]\n",
    "px2 = [np.random.randint(-1, 5) for _ in np.arange(ndots)]\n",
    "for ipx1, ipx2 in zip(px1, px2):\n",
    "    if (b + w1*ipx1 + w2*ipx2) <= 0:\n",
    "        plt.plot(ipx1, ipx2, 'ro')\n",
    "    else:\n",
    "        plt.plot(ipx1, ipx2, 'bs')\n",
    "\n",
    "# code to plot the line b + w_1 x_1 + w_2 x_2 = 0\n",
    "\n"
   ]
  },
  {
   "cell_type": "markdown",
   "metadata": {},
   "source": [
    "## OR Neuron Implementation\n",
    "\n",
    "\n",
    "#### Isn't your job?"
   ]
  },
  {
   "cell_type": "code",
   "execution_count": null,
   "metadata": {},
   "outputs": [],
   "source": []
  },
  {
   "cell_type": "markdown",
   "metadata": {},
   "source": [
    "## Challenge\n",
    "\n",
    "Modify the code in __Classification and Classifier__ such that it generates a given number of dots (ndots) not to be overlapped. Another way to solve his problem is to annotate how many dots are placed at each dots if they overlapped.\n",
    "\n",
    "__Classification and Classifier__ 에 있는 코드를 변경하여, 임의로 발생하는 점들이 겹치지 않도록 하십시오. \n",
    "다른 한 방법은 겹치는 경우, 얼마나 많이 겹치는지를 표시하는 것입니다. "
   ]
  },
  {
   "cell_type": "code",
   "execution_count": null,
   "metadata": {},
   "outputs": [],
   "source": []
  }
 ],
 "metadata": {
  "kernelspec": {
   "display_name": "Python 3",
   "language": "python",
   "name": "python3"
  },
  "language_info": {
   "codemirror_mode": {
    "name": "ipython",
    "version": 3
   },
   "file_extension": ".py",
   "mimetype": "text/x-python",
   "name": "python",
   "nbconvert_exporter": "python",
   "pygments_lexer": "ipython3",
   "version": "3.7.3"
  }
 },
 "nbformat": 4,
 "nbformat_minor": 2
}
