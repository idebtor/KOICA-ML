{
 "cells": [
  {
   "cell_type": "markdown",
   "metadata": {},
   "source": [
    "--------------------------\n",
    "# Machine Learning: Group 4 Assignment 3\n",
    "---------------------------\n",
    "\n",
    "Watch Gordon's lecture `Machine Learning Recipes 6 ~ 7`. In one jupyter notebook, do coding for TFLearn or in Machine Learning Recipes 6 ~ 7 Video. Post your work at Piazza by 24 hours before the next class. Have a reasonably good document of the program as you have seen in my lecture note.\n",
    "\n",
    "- Work with Tensorflow if possible \n",
    "- Get familiar with MNIST Classification.\n",
    "- Find the accuracy of each digit"
   ]
  },
  {
   "cell_type": "markdown",
   "metadata": {},
   "source": [
    "## Honour code\n",
    "On our honour, we pledge that we have neither received nor provided improper assistamce in the completion of this programming assigned. Signed by KIthandi Lincoln Kasengi, Raphael Azare, Maurice Hagenimana"
   ]
  },
  {
   "cell_type": "markdown",
   "metadata": {},
   "source": [
    "### Group Members\n",
    "\n",
    "1. Lincoln Kasengi kithandi - 21847004\n",
    "2. Raphael Kariyama Azare  -21847002\n",
    "3. Maurice Hagenimana  - 21847006"
   ]
  },
  {
   "cell_type": "markdown",
   "metadata": {},
   "source": [
    "------------------------\n",
    "### 1. Train an Image Classifier with TensorFlow for Poets - Machine Learning Recipes #6\n",
    "------------------------\n",
    "[Watch and follow instructor Josh Gordon in Recipe 6](https://www.youtube.com/watch?v=cSKfRcEDGUs) "
   ]
  },
  {
   "cell_type": "markdown",
   "metadata": {},
   "source": [
    "- __Download Tensorflow using Anaconda:__ Use the command `conda install -c conda-forge tensorflow` on anaconda cmd prompt or `pip install tensorflow` on commnand prompt or windows shell. Use elevated privileges. \n"
   ]
  },
  {
   "cell_type": "markdown",
   "metadata": {},
   "source": [
    "__Summary__\n",
    "\n",
    "- We are going to train our own Image Classifier with a high level code lab called TensorFlow for Poets.\n",
    "\n",
    "- We are going to build a Classifier to tell the difference between two images.\n",
    "- We are going to work with a code lab called TensorFlow for Poets.\n",
    "- We are going to create a powerful classifier.\n",
    "\n",
    "__What to do__\n",
    "- [Download and install TensorFlow](https://www.tensorflow.org/install/)\n",
    "- `import sklearn`\n",
    "- `import numpy`\n",
    "- `import accuracy_score`\n",
    "- `import model_selection`\n",
    "- `import metrics`\n",
    "\n",
    "To be able to create an image classifier we only need to use a training classifier with TensorFlow for Poets.\n",
    "\n",
    "__NOTE:__ TensorFlow is an open source Machine Learning library and it is specially used for a branch of Machine Learning called __DEEP LEARNING__\n",
    "- __Deep learning__ has been useful in the past and today especially in domains like image classifications\n",
    "- __Remember:__ Classifiers take features as inputs.\n",
    "\n",
    "- In deep learning the classifier used is called a Neural Network. NeUral Networks can learn more very complex functions.\n",
    "\n",
    "- The TensorFlow for Poets takes care of the setup and training of the Neural Network for you behind the scenes.\n",
    "\n",
    "- In writing TensorFlow codes we will use a tool called TF Learn which is also a high level Machine Learning library on top of TensorFlow.\n",
    "\n",
    "- The `TF Learn syntax` is similar to `scikit-learn`.\n",
    "\n"
   ]
  },
  {
   "cell_type": "code",
   "execution_count": 1,
   "metadata": {},
   "outputs": [
    {
     "name": "stderr",
     "output_type": "stream",
     "text": [
      "C:\\ProgramData\\Anaconda3\\lib\\site-packages\\h5py\\__init__.py:36: FutureWarning: Conversion of the second argument of issubdtype from `float` to `np.floating` is deprecated. In future, it will be treated as `np.float64 == np.dtype(float).type`.\n",
      "  from ._conv import register_converters as _register_converters\n"
     ]
    },
    {
     "name": "stdout",
     "output_type": "stream",
     "text": [
      "WARNING:tensorflow:From <ipython-input-1-b1ad373eeda4>:10: load_dataset (from tensorflow.contrib.learn.python.learn.datasets) is deprecated and will be removed in a future version.\n",
      "Instructions for updating:\n",
      "Please use tf.data.\n",
      "WARNING:tensorflow:From C:\\ProgramData\\Anaconda3\\lib\\site-packages\\tensorflow\\contrib\\learn\\python\\learn\\datasets\\__init__.py:80: load_iris (from tensorflow.contrib.learn.python.learn.datasets.base) is deprecated and will be removed in a future version.\n",
      "Instructions for updating:\n",
      "Use scikits.learn.datasets.\n",
      "WARNING:tensorflow:From C:\\ProgramData\\Anaconda3\\lib\\site-packages\\tensorflow\\contrib\\learn\\python\\learn\\datasets\\base.py:112: load_csv_with_header (from tensorflow.contrib.learn.python.learn.datasets.base) is deprecated and will be removed in a future version.\n",
      "Instructions for updating:\n",
      "Use tf.data instead.\n",
      "WARNING:tensorflow:From C:\\ProgramData\\Anaconda3\\lib\\site-packages\\tensorflow\\contrib\\learn\\python\\learn\\estimators\\dnn.py:378: multi_class_head (from tensorflow.contrib.learn.python.learn.estimators.head) is deprecated and will be removed in a future version.\n",
      "Instructions for updating:\n",
      "Please switch to tf.contrib.estimator.*_head.\n",
      "WARNING:tensorflow:From C:\\ProgramData\\Anaconda3\\lib\\site-packages\\tensorflow\\contrib\\learn\\python\\learn\\estimators\\estimator.py:1179: BaseEstimator.__init__ (from tensorflow.contrib.learn.python.learn.estimators.estimator) is deprecated and will be removed in a future version.\n",
      "Instructions for updating:\n",
      "Please replace uses of any Estimator from tf.contrib.learn with an Estimator from tf.estimator.*\n",
      "WARNING:tensorflow:From C:\\ProgramData\\Anaconda3\\lib\\site-packages\\tensorflow\\contrib\\learn\\python\\learn\\estimators\\estimator.py:427: RunConfig.__init__ (from tensorflow.contrib.learn.python.learn.estimators.run_config) is deprecated and will be removed in a future version.\n",
      "Instructions for updating:\n",
      "When switching to tf.estimator.Estimator, use tf.estimator.RunConfig instead.\n",
      "INFO:tensorflow:Using default config.\n",
      "WARNING:tensorflow:Using temporary folder as model directory: C:\\Users\\user\\AppData\\Local\\Temp\\tmprqron4dq\n",
      "INFO:tensorflow:Using config: {'_task_type': None, '_task_id': 0, '_cluster_spec': <tensorflow.python.training.server_lib.ClusterSpec object at 0x000002707F4E1908>, '_master': '', '_num_ps_replicas': 0, '_num_worker_replicas': 0, '_environment': 'local', '_is_chief': True, '_evaluation_master': '', '_train_distribute': None, '_device_fn': None, '_tf_config': gpu_options {\n",
      "  per_process_gpu_memory_fraction: 1\n",
      "}\n",
      ", '_tf_random_seed': None, '_save_summary_steps': 100, '_save_checkpoints_secs': 600, '_log_step_count_steps': 100, '_session_config': None, '_save_checkpoints_steps': None, '_keep_checkpoint_max': 5, '_keep_checkpoint_every_n_hours': 10000, '_model_dir': 'C:\\\\Users\\\\user\\\\AppData\\\\Local\\\\Temp\\\\tmprqron4dq'}\n",
      "WARNING:tensorflow:From <ipython-input-1-b1ad373eeda4>:19: calling BaseEstimator.fit (from tensorflow.contrib.learn.python.learn.estimators.estimator) with x is deprecated and will be removed after 2016-12-01.\n",
      "Instructions for updating:\n",
      "Estimator is decoupled from Scikit Learn interface by moving into\n",
      "separate class SKCompat. Arguments x, y and batch_size are only\n",
      "available in the SKCompat class, Estimator will only accept input_fn.\n",
      "Example conversion:\n",
      "  est = Estimator(...) -> est = SKCompat(Estimator(...))\n",
      "WARNING:tensorflow:From <ipython-input-1-b1ad373eeda4>:19: calling BaseEstimator.fit (from tensorflow.contrib.learn.python.learn.estimators.estimator) with y is deprecated and will be removed after 2016-12-01.\n",
      "Instructions for updating:\n",
      "Estimator is decoupled from Scikit Learn interface by moving into\n",
      "separate class SKCompat. Arguments x, y and batch_size are only\n",
      "available in the SKCompat class, Estimator will only accept input_fn.\n",
      "Example conversion:\n",
      "  est = Estimator(...) -> est = SKCompat(Estimator(...))\n",
      "WARNING:tensorflow:From C:\\ProgramData\\Anaconda3\\lib\\site-packages\\tensorflow\\contrib\\learn\\python\\learn\\estimators\\estimator.py:508: SKCompat.__init__ (from tensorflow.contrib.learn.python.learn.estimators.estimator) is deprecated and will be removed in a future version.\n",
      "Instructions for updating:\n",
      "Please switch to the Estimator interface.\n",
      "WARNING:tensorflow:From C:\\ProgramData\\Anaconda3\\lib\\site-packages\\tensorflow\\contrib\\learn\\python\\learn\\estimators\\estimator.py:142: setup_train_data_feeder (from tensorflow.contrib.learn.python.learn.learn_io.data_feeder) is deprecated and will be removed in a future version.\n",
      "Instructions for updating:\n",
      "Please use tensorflow/transform or tf.data.\n",
      "WARNING:tensorflow:From C:\\ProgramData\\Anaconda3\\lib\\site-packages\\tensorflow\\contrib\\learn\\python\\learn\\learn_io\\data_feeder.py:96: extract_dask_data (from tensorflow.contrib.learn.python.learn.learn_io.dask_io) is deprecated and will be removed in a future version.\n",
      "Instructions for updating:\n",
      "Please feed input to tf.data to support dask.\n",
      "WARNING:tensorflow:From C:\\ProgramData\\Anaconda3\\lib\\site-packages\\tensorflow\\contrib\\learn\\python\\learn\\learn_io\\data_feeder.py:98: extract_dask_labels (from tensorflow.contrib.learn.python.learn.learn_io.dask_io) is deprecated and will be removed in a future version.\n",
      "Instructions for updating:\n",
      "Please feed input to tf.data to support dask.\n",
      "WARNING:tensorflow:From C:\\ProgramData\\Anaconda3\\lib\\site-packages\\tensorflow\\contrib\\learn\\python\\learn\\learn_io\\data_feeder.py:100: extract_pandas_data (from tensorflow.contrib.learn.python.learn.learn_io.pandas_io) is deprecated and will be removed in a future version.\n",
      "Instructions for updating:\n",
      "Please access pandas data directly.\n",
      "WARNING:tensorflow:From C:\\ProgramData\\Anaconda3\\lib\\site-packages\\tensorflow\\contrib\\learn\\python\\learn\\learn_io\\data_feeder.py:102: extract_pandas_labels (from tensorflow.contrib.learn.python.learn.learn_io.pandas_io) is deprecated and will be removed in a future version.\n",
      "Instructions for updating:\n",
      "Please access pandas data directly.\n",
      "WARNING:tensorflow:From C:\\ProgramData\\Anaconda3\\lib\\site-packages\\tensorflow\\contrib\\learn\\python\\learn\\learn_io\\data_feeder.py:159: DataFeeder.__init__ (from tensorflow.contrib.learn.python.learn.learn_io.data_feeder) is deprecated and will be removed in a future version.\n",
      "Instructions for updating:\n",
      "Please use tensorflow/transform or tf.data.\n",
      "WARNING:tensorflow:From C:\\ProgramData\\Anaconda3\\lib\\site-packages\\tensorflow\\contrib\\learn\\python\\learn\\learn_io\\data_feeder.py:340: check_array (from tensorflow.contrib.learn.python.learn.learn_io.data_feeder) is deprecated and will be removed in a future version.\n",
      "Instructions for updating:\n",
      "Please convert numpy dtypes explicitly.\n",
      "WARNING:tensorflow:float64 is not supported by many models, consider casting to float32.\n",
      "WARNING:tensorflow:From C:\\ProgramData\\Anaconda3\\lib\\site-packages\\tensorflow\\contrib\\learn\\python\\learn\\estimators\\head.py:678: ModelFnOps.__new__ (from tensorflow.contrib.learn.python.learn.estimators.model_fn) is deprecated and will be removed in a future version.\n",
      "Instructions for updating:\n",
      "When switching to tf.estimator.Estimator, use tf.estimator.EstimatorSpec. You can use the `estimator_spec` method to create an equivalent one.\n",
      "INFO:tensorflow:Create CheckpointSaverHook.\n",
      "INFO:tensorflow:Graph was finalized.\n",
      "INFO:tensorflow:Running local_init_op.\n",
      "INFO:tensorflow:Done running local_init_op.\n",
      "INFO:tensorflow:Saving checkpoints for 0 into C:\\Users\\user\\AppData\\Local\\Temp\\tmprqron4dq\\model.ckpt.\n",
      "INFO:tensorflow:loss = 1.3627213, step = 1\n",
      "INFO:tensorflow:global_step/sec: 452.355\n",
      "INFO:tensorflow:loss = 0.18467909, step = 101 (0.221 sec)\n",
      "INFO:tensorflow:Saving checkpoints for 200 into C:\\Users\\user\\AppData\\Local\\Temp\\tmprqron4dq\\model.ckpt.\n",
      "INFO:tensorflow:Loss for final step: 0.10285916.\n",
      "WARNING:tensorflow:From C:\\ProgramData\\Anaconda3\\lib\\site-packages\\tensorflow\\python\\util\\deprecation.py:519: calling DNNClassifier.predict (from tensorflow.contrib.learn.python.learn.estimators.dnn) with outputs=None is deprecated and will be removed after 2017-03-01.\n",
      "Instructions for updating:\n",
      "Please switch to predict_classes, or set `outputs` argument.\n",
      "WARNING:tensorflow:From C:\\ProgramData\\Anaconda3\\lib\\site-packages\\tensorflow\\contrib\\learn\\python\\learn\\estimators\\dnn.py:463: calling BaseEstimator.predict (from tensorflow.contrib.learn.python.learn.estimators.estimator) with x is deprecated and will be removed after 2016-12-01.\n",
      "Instructions for updating:\n",
      "Estimator is decoupled from Scikit Learn interface by moving into\n",
      "separate class SKCompat. Arguments x, y and batch_size are only\n",
      "available in the SKCompat class, Estimator will only accept input_fn.\n",
      "Example conversion:\n",
      "  est = Estimator(...) -> est = SKCompat(Estimator(...))\n"
     ]
    },
    {
     "name": "stdout",
     "output_type": "stream",
     "text": [
      "WARNING:tensorflow:float64 is not supported by many models, consider casting to float32.\n",
      "INFO:tensorflow:Graph was finalized.\n",
      "INFO:tensorflow:Restoring parameters from C:\\Users\\user\\AppData\\Local\\Temp\\tmprqron4dq\\model.ckpt-200\n",
      "INFO:tensorflow:Running local_init_op.\n",
      "INFO:tensorflow:Done running local_init_op.\n",
      "<generator object DNNClassifier.predict_classes.<locals>.<genexpr> at 0x000002707F572D00>\n",
      "WARNING:tensorflow:From <ipython-input-1-b1ad373eeda4>:22: calling BaseEstimator.evaluate (from tensorflow.contrib.learn.python.learn.estimators.estimator) with x is deprecated and will be removed after 2016-12-01.\n",
      "Instructions for updating:\n",
      "Estimator is decoupled from Scikit Learn interface by moving into\n",
      "separate class SKCompat. Arguments x, y and batch_size are only\n",
      "available in the SKCompat class, Estimator will only accept input_fn.\n",
      "Example conversion:\n",
      "  est = Estimator(...) -> est = SKCompat(Estimator(...))\n",
      "WARNING:tensorflow:From <ipython-input-1-b1ad373eeda4>:22: calling BaseEstimator.evaluate (from tensorflow.contrib.learn.python.learn.estimators.estimator) with y is deprecated and will be removed after 2016-12-01.\n",
      "Instructions for updating:\n",
      "Estimator is decoupled from Scikit Learn interface by moving into\n",
      "separate class SKCompat. Arguments x, y and batch_size are only\n",
      "available in the SKCompat class, Estimator will only accept input_fn.\n",
      "Example conversion:\n",
      "  est = Estimator(...) -> est = SKCompat(Estimator(...))\n",
      "WARNING:tensorflow:float64 is not supported by many models, consider casting to float32.\n",
      "INFO:tensorflow:Starting evaluation at 2018-11-02-02:25:16\n",
      "INFO:tensorflow:Graph was finalized.\n",
      "INFO:tensorflow:Restoring parameters from C:\\Users\\user\\AppData\\Local\\Temp\\tmprqron4dq\\model.ckpt-200\n",
      "INFO:tensorflow:Running local_init_op.\n",
      "INFO:tensorflow:Done running local_init_op.\n",
      "INFO:tensorflow:Finished evaluation at 2018-11-02-02:25:16\n",
      "INFO:tensorflow:Saving dict for global step 200: accuracy = 1.0, global_step = 200, loss = 0.07272443\n",
      "Accuracy: 1.000000\n"
     ]
    }
   ],
   "source": [
    "# Import required pythion extension libraries\n",
    "from sklearn import metrics, model_selection\n",
    "from sklearn.metrics import accuracy_score\n",
    "import tensorflow as tf\n",
    "from tensorflow.contrib import learn\n",
    "from tensorflow.contrib import slim\n",
    "import numpy as np\n",
    "\n",
    "\n",
    "iris = learn.datasets.load_dataset('iris')\n",
    "x_train, x_test, y_train, y_test = model_selection.train_test_split(\n",
    "iris.data, iris.target, test_size = 0.2)\n",
    "        \n",
    "#Build 3 layer DNN with 10, 20, 10 units respectively.\n",
    "feature_columns =[tf.contrib.layers.real_valued_column(\"\", dimension=1)]\n",
    "classifier = learn.DNNClassifier(feature_columns=feature_columns, hidden_units =[10, 20, 10], n_classes = 3)\n",
    "        \n",
    "# Fit and predict\n",
    "classifier.fit(x_train, y_train, steps = 200)\n",
    "print(classifier.predict(x_test))\n",
    "# Evaluate the accuracy.\n",
    "accuracy_score = classifier.evaluate(x=x_test, y=y_test)[\"accuracy\"]\n",
    "print('Accuracy: {0:f}'.format(accuracy_score))"
   ]
  },
  {
   "cell_type": "markdown",
   "metadata": {},
   "source": [
    "------------------------------\n",
    "### 2. Classifying Handwritten Digits with TF.Learn - Machine Learning Recipes #7\n",
    "---------------------------\n",
    "\n",
    "[Watch and follow instructor Josh Gordon in Recipe 7](https://www.youtube.com/watch?v=Gj0iyo265bc) "
   ]
  },
  {
   "cell_type": "markdown",
   "metadata": {},
   "source": [
    "- __Download Tensorflow using Anaconda:__ Use the command `conda install -c conda-forge tensorflow` on anaconda cmd prompt or `pip install tensorflow` on command prompt or windows shell. Use elevated privileges. \n"
   ]
  },
  {
   "cell_type": "markdown",
   "metadata": {},
   "source": [
    "__STEP 1:__ Installation\n",
    "- [Install docker ](https://runnable.com/docker/install-docker-on-windows-10)\n",
    "- [Download Tensorflow](https://www.tensorflow.org/install/)\n",
    "- [Download the MNIST Dataset](http://yann.lecun.com/exdb/mnist/)"
   ]
  },
  {
   "cell_type": "markdown",
   "metadata": {},
   "source": [
    "__STEP 2:__ Import the required python extension libraries"
   ]
  },
  {
   "cell_type": "code",
   "execution_count": 2,
   "metadata": {},
   "outputs": [],
   "source": [
    "import matplotlib.pyplot as plt\n",
    "import numpy as np\n",
    "import tensorflow as tf\n",
    "learn = tf.contrib.learn\n",
    "tf.logging.set_verbosity(tf.logging.ERROR)"
   ]
  },
  {
   "cell_type": "markdown",
   "metadata": {},
   "source": [
    "__STEP 3:__ Downloading and extracting the MNIST Dataset\n",
    "\n"
   ]
  },
  {
   "cell_type": "code",
   "execution_count": 3,
   "metadata": {},
   "outputs": [
    {
     "name": "stdout",
     "output_type": "stream",
     "text": [
      "Successfully downloaded train-images-idx3-ubyte.gz 9912422 bytes.\n",
      "Extracting MNIST-data\\train-images-idx3-ubyte.gz\n",
      "Successfully downloaded train-labels-idx1-ubyte.gz 28881 bytes.\n",
      "Extracting MNIST-data\\train-labels-idx1-ubyte.gz\n",
      "Successfully downloaded t10k-images-idx3-ubyte.gz 1648877 bytes.\n",
      "Extracting MNIST-data\\t10k-images-idx3-ubyte.gz\n",
      "Successfully downloaded t10k-labels-idx1-ubyte.gz 4542 bytes.\n",
      "Extracting MNIST-data\\t10k-labels-idx1-ubyte.gz\n"
     ]
    }
   ],
   "source": [
    "# Import the dataset\n",
    "mnist = learn.datasets.load_dataset('mnist')\n",
    "data = mnist.train.images\n",
    "labels = np.asarray(mnist.train.labels, dtype=np.int32)\n",
    "test_data = mnist.test.images\n",
    "test_labels = np.asarray(mnist.test.labels, dtype=np.int32)"
   ]
  },
  {
   "cell_type": "code",
   "execution_count": 4,
   "metadata": {},
   "outputs": [],
   "source": [
    "# limit size of datasets for a faster experiment\n",
    "max_examples = 10000\n",
    "data = data[:max_examples]\n",
    "labels = labels[:max_examples]"
   ]
  },
  {
   "cell_type": "markdown",
   "metadata": {},
   "source": [
    "__STEP 4:__ Visualize the images"
   ]
  },
  {
   "cell_type": "code",
   "execution_count": 5,
   "metadata": {},
   "outputs": [],
   "source": [
    "def display(i):\n",
    "    img = test_data[i]\n",
    "    plt.title('Example %d. Label: %d' % (i, test_labels[i]))\n",
    "    plt.imshow(img.reshape((28, 28)), cmap=plt.cm.gray_r)"
   ]
  },
  {
   "cell_type": "code",
   "execution_count": 6,
   "metadata": {
    "scrolled": true
   },
   "outputs": [
    {
     "data": {
      "image/png": "[encoded data removed]",
      "text/plain": [
       "<Figure size 432x288 with 1 Axes>"
      ]
     },
     "metadata": {},
     "output_type": "display_data"
    }
   ],
   "source": [
    "display(0)  # display example 0, label 7"
   ]
  },
  {
   "cell_type": "code",
   "execution_count": 7,
   "metadata": {},
   "outputs": [
    {
     "data": {
      "image/png": "[encoded data removed]",
      "text/plain": [
       "<Figure size 432x288 with 1 Axes>"
      ]
     },
     "metadata": {},
     "output_type": "display_data"
    }
   ],
   "source": [
    "display(1)  # display example 1, label 2"
   ]
  },
  {
   "cell_type": "code",
   "execution_count": 8,
   "metadata": {
    "scrolled": true
   },
   "outputs": [
    {
     "data": {
      "image/png": "[encoded data removed]",
      "text/plain": [
       "<Figure size 432x288 with 1 Axes>"
      ]
     },
     "metadata": {},
     "output_type": "display_data"
    }
   ],
   "source": [
    "display(8)  # display example 8, label 5"
   ]
  },
  {
   "cell_type": "markdown",
   "metadata": {},
   "source": [
    "__STEP 5:__ Initialize and the Classifier "
   ]
  },
  {
   "cell_type": "code",
   "execution_count": 9,
   "metadata": {
    "scrolled": true
   },
   "outputs": [
    {
     "data": {
      "text/plain": [
       "LinearClassifier(params={'head': <tensorflow.contrib.learn.python.learn.estimators.head._MultiClassHead object at 0x0000027001A22390>, 'feature_columns': [_RealValuedColumn(column_name='', dimension=784, default_value=None, dtype=tf.float32, normalizer=None)], 'optimizer': None, 'gradient_clip_norm': None, 'joint_weights': False})"
      ]
     },
     "execution_count": 9,
     "metadata": {},
     "output_type": "execute_result"
    }
   ],
   "source": [
    "# fit a linear classifier\n",
    "feature_columns = learn.infer_real_valued_columns_from_input(data)\n",
    "classifier = learn.LinearClassifier(feature_columns=feature_columns, n_classes=10)\n",
    "classifier.fit(data, labels, batch_size=100, steps=1000)"
   ]
  },
  {
   "cell_type": "markdown",
   "metadata": {},
   "source": [
    "__STEP 6:__ Evaluate the accuracy of the algorithm"
   ]
  },
  {
   "cell_type": "code",
   "execution_count": 10,
   "metadata": {},
   "outputs": [
    {
     "name": "stdout",
     "output_type": "stream",
     "text": [
      "Accuracy:  0.9137\n"
     ]
    }
   ],
   "source": [
    "# evaluate linear classifier accuracy\n",
    "classifier.evaluate(test_data, test_labels)\n",
    "print('Accuracy: ', classifier.evaluate(test_data, test_labels)[\"accuracy\"])"
   ]
  },
  {
   "cell_type": "code",
   "execution_count": 20,
   "metadata": {},
   "outputs": [
    {
     "name": "stdout",
     "output_type": "stream",
     "text": [
      "Digit Histogram\n",
      "0  :  980\n",
      "1  :  1135\n",
      "2  :  1032\n",
      "3  :  1010\n",
      "4  :  982\n",
      "5  :  892\n",
      "6  :  958\n",
      "7  :  1028\n",
      "8  :  974\n",
      "9  :  1009\n",
      "[7 2 1 0 4 1 4 9 5 9]\n",
      "[7 2 1 0 4 1 4 9 6 9]\n",
      "Total Accuracy = 0.9137, 9137/10000\n",
      "Digit Accuracy(0) : 0.98 = 961/980\n",
      "Digit Accuracy(1) : 0.98 = 1108/1135\n",
      "Digit Accuracy(2) : 0.87 = 898/1032\n",
      "Digit Accuracy(3) : 0.92 = 928/1010\n",
      "Digit Accuracy(4) : 0.93 = 912/982\n",
      "Digit Accuracy(5) : 0.84 = 750/892\n",
      "Digit Accuracy(6) : 0.93 = 895/958\n",
      "Digit Accuracy(7) : 0.91 = 935/1028\n",
      "Digit Accuracy(8) : 0.89 = 871/974\n",
      "Digit Accuracy(9) : 0.87 = 879/1009\n",
      "total freq =  10000\n",
      "total true_cnt =  9137\n"
     ]
    }
   ],
   "source": [
    "freq = np.bincount(test_labels)\n",
    "print('Digit Histogram')\n",
    "for i, count in enumerate(freq):\n",
    "    print(i, \" : \", count)\n",
    "yhat_ = classifier.predict(test_data)\n",
    "yhat = np.array(list(yhat_))\n",
    "print(test_labels[:10])\n",
    "print(yhat[:10])\n",
    "\n",
    "true_cnt = sum(yhat == test_labels)\n",
    "print('Total Accuracy = {}, {}/{}'.\n",
    "      format(true_cnt/len(yhat), true_cnt, len(yhat)))\n",
    "\n",
    "true_cnt = 0\n",
    "for i in np.arange(10):\n",
    "    count = sum(1 for yi, yhati in zip(test_labels, yhat) \n",
    "        if i == yi and i == yhati)\n",
    "    true_cnt += count\n",
    "    print('Digit Accuracy({}) : {} = {}/{}'.\n",
    "         format(i, np.round(count/freq[i], 2), count, freq[i]))\n",
    "    \n",
    "print('total freq = ', sum(freq))\n",
    "print('total true_cnt = ', true_cnt)"
   ]
  },
  {
   "cell_type": "markdown",
   "metadata": {},
   "source": [
    "__STEP 7:__ Make Predictions using new data"
   ]
  },
  {
   "cell_type": "code",
   "execution_count": 11,
   "metadata": {},
   "outputs": [
    {
     "name": "stdout",
     "output_type": "stream",
     "text": [
      "Predicted 7, Label: 7\n"
     ]
    },
    {
     "data": {
      "image/png": "[encoded data removed]",
      "text/plain": [
       "<Figure size 432x288 with 1 Axes>"
      ]
     },
     "metadata": {
      "needs_background": "light"
     },
     "output_type": "display_data"
    }
   ],
   "source": [
    "# this will be classified correctly:\n",
    "prediction = classifier.predict(np.array([test_data[0]], dtype=float), as_iterable=False)\n",
    "print(\"Predicted %d, Label: %d\" % (prediction, test_labels[0]))\n",
    "display(0)"
   ]
  },
  {
   "cell_type": "code",
   "execution_count": 12,
   "metadata": {},
   "outputs": [
    {
     "name": "stdout",
     "output_type": "stream",
     "text": [
      "Predicted 7, Label: 7\n"
     ]
    },
    {
     "data": {
      "image/png": "[encoded data removed]",
      "text/plain": [
       "<Figure size 432x288 with 1 Axes>"
      ]
     },
     "metadata": {
      "needs_background": "light"
     },
     "output_type": "display_data"
    }
   ],
   "source": [
    "# this will be classified incorrectly:\n",
    "prediction = classifier.predict(np.array([test_data[0]], dtype=float), as_iterable=False)\n",
    "print(\"Predicted %d, Label: %d\" % (prediction, test_labels[0]))\n",
    "display(8)"
   ]
  },
  {
   "cell_type": "markdown",
   "metadata": {},
   "source": [
    "__STEP 8:__ Visualize learnerd weights\n",
    "- Positive weights are joined in red\n",
    "- Negative weights are joined in blue"
   ]
  },
  {
   "cell_type": "code",
   "execution_count": 13,
   "metadata": {},
   "outputs": [
    {
     "name": "stdout",
     "output_type": "stream",
     "text": [
      "var: global_step = 1000\n",
      "var: linear//weight = [[0. 0. 0. ... 0. 0. 0.]\n",
      " [0. 0. 0. ... 0. 0. 0.]\n",
      " [0. 0. 0. ... 0. 0. 0.]\n",
      " ...\n",
      " [0. 0. 0. ... 0. 0. 0.]\n",
      " [0. 0. 0. ... 0. 0. 0.]\n",
      " [0. 0. 0. ... 0. 0. 0.]]\n",
      "var: linear//weight/d/linear//weight/part_0/Ftrl = [[0.1 0.1 0.1 ... 0.1 0.1 0.1]\n",
      " [0.1 0.1 0.1 ... 0.1 0.1 0.1]\n",
      " [0.1 0.1 0.1 ... 0.1 0.1 0.1]\n",
      " ...\n",
      " [0.1 0.1 0.1 ... 0.1 0.1 0.1]\n",
      " [0.1 0.1 0.1 ... 0.1 0.1 0.1]\n",
      " [0.1 0.1 0.1 ... 0.1 0.1 0.1]]\n",
      "var: linear//weight/d/linear//weight/part_0/Ftrl_1 = [[0. 0. 0. ... 0. 0. 0.]\n",
      " [0. 0. 0. ... 0. 0. 0.]\n",
      " [0. 0. 0. ... 0. 0. 0.]\n",
      " ...\n",
      " [0. 0. 0. ... 0. 0. 0.]\n",
      " [0. 0. 0. ... 0. 0. 0.]\n",
      " [0. 0. 0. ... 0. 0. 0.]]\n",
      "var: linear/bias_weight = [-0.3607026   0.23778489  0.04752281 -0.04832624  0.03290113  1.0220064\n",
      " -0.21491422  0.5462881  -0.85769206 -0.19971925]\n",
      "var: linear/bias_weight/near/bias_weight/part_0/Ftrl = [0.21301697 0.1982434  0.3652588  0.6702958  0.364734   0.43759426\n",
      " 0.24948785 0.29092404 0.5292659  0.5635558 ]\n",
      "var: linear/bias_weight/near/bias_weight/part_0/Ftrl_1 = [ 0.83238906 -0.52936304 -0.14360596  0.1978273  -0.09935024 -3.3803327\n",
      "  0.53673494 -1.4732672   3.1198833   0.7496497 ]\n"
     ]
    },
    {
     "data": {
      "image/png": "[encoded data removed]",
      "text/plain": [
       "<Figure size 720x288 with 10 Axes>"
      ]
     },
     "metadata": {},
     "output_type": "display_data"
    }
   ],
   "source": [
    "# visualize learned weights\n",
    "for var in classifier.get_variable_names():\n",
    "    print(\"var:\", var, \"=\", classifier.get_variable_value(var))\n",
    "    \n",
    "weights = classifier.get_variable_value(\"linear//weight/d/linear//weight/part_0/Ftrl_1\")\n",
    "f, axes = plt.subplots(2, 5, figsize=(10, 4))\n",
    "axes = axes.reshape(-1)\n",
    "for i in range(len(axes)):\n",
    "    a = axes[i]\n",
    "    a.imshow(weights.T[i].reshape(28, 28), cmap=plt.cm.seismic)\n",
    "    a.set_title(i)\n",
    "    a.set_xticks(())  # ticks be gone\n",
    "    a.set_yticks(())\n",
    "plt.show()"
   ]
  },
  {
   "cell_type": "markdown",
   "metadata": {},
   "source": [
    "### Final Code"
   ]
  },
  {
   "cell_type": "code",
   "execution_count": 14,
   "metadata": {},
   "outputs": [
    {
     "name": "stdout",
     "output_type": "stream",
     "text": [
      "Extracting MNIST-data\\train-images-idx3-ubyte.gz\n",
      "Extracting MNIST-data\\train-labels-idx1-ubyte.gz\n",
      "Extracting MNIST-data\\t10k-images-idx3-ubyte.gz\n",
      "Extracting MNIST-data\\t10k-labels-idx1-ubyte.gz\n",
      "0.9137\n",
      "Predicted 7, Label: 7\n",
      "Predicted 7, Label: 7\n",
      "var: global_step = 1000\n",
      "var: linear//weight = [[0. 0. 0. ... 0. 0. 0.]\n",
      " [0. 0. 0. ... 0. 0. 0.]\n",
      " [0. 0. 0. ... 0. 0. 0.]\n",
      " ...\n",
      " [0. 0. 0. ... 0. 0. 0.]\n",
      " [0. 0. 0. ... 0. 0. 0.]\n",
      " [0. 0. 0. ... 0. 0. 0.]]\n",
      "var: linear//weight/d/linear//weight/part_0/Ftrl = [[0.1 0.1 0.1 ... 0.1 0.1 0.1]\n",
      " [0.1 0.1 0.1 ... 0.1 0.1 0.1]\n",
      " [0.1 0.1 0.1 ... 0.1 0.1 0.1]\n",
      " ...\n",
      " [0.1 0.1 0.1 ... 0.1 0.1 0.1]\n",
      " [0.1 0.1 0.1 ... 0.1 0.1 0.1]\n",
      " [0.1 0.1 0.1 ... 0.1 0.1 0.1]]\n",
      "var: linear//weight/d/linear//weight/part_0/Ftrl_1 = [[0. 0. 0. ... 0. 0. 0.]\n",
      " [0. 0. 0. ... 0. 0. 0.]\n",
      " [0. 0. 0. ... 0. 0. 0.]\n",
      " ...\n",
      " [0. 0. 0. ... 0. 0. 0.]\n",
      " [0. 0. 0. ... 0. 0. 0.]\n",
      " [0. 0. 0. ... 0. 0. 0.]]\n",
      "var: linear/bias_weight = [-0.3607026   0.23778489  0.04752281 -0.04832624  0.03290113  1.0220064\n",
      " -0.21491422  0.5462881  -0.85769206 -0.19971925]\n",
      "var: linear/bias_weight/near/bias_weight/part_0/Ftrl = [0.21301697 0.1982434  0.3652588  0.6702958  0.364734   0.43759426\n",
      " 0.24948785 0.29092404 0.5292659  0.5635558 ]\n",
      "var: linear/bias_weight/near/bias_weight/part_0/Ftrl_1 = [ 0.83238906 -0.52936304 -0.14360596  0.1978273  -0.09935024 -3.3803327\n",
      "  0.53673494 -1.4732672   3.1198833   0.7496497 ]\n"
     ]
    },
    {
     "data": {
      "image/png": "[encoded data removed]",
      "text/plain": [
       "<Figure size 432x288 with 1 Axes>"
      ]
     },
     "metadata": {
      "needs_background": "light"
     },
     "output_type": "display_data"
    },
    {
     "data": {
      "image/png": "[encoded data removed]",
      "text/plain": [
       "<Figure size 720x288 with 10 Axes>"
      ]
     },
     "metadata": {},
     "output_type": "display_data"
    }
   ],
   "source": [
    "import matplotlib.pyplot as plt\n",
    "import numpy as np\n",
    "import tensorflow as tf\n",
    "\n",
    "learn = tf.contrib.learn\n",
    "tf.logging.set_verbosity(tf.logging.ERROR)\n",
    "\n",
    "# Import the dataset\n",
    "mnist = learn.datasets.load_dataset('mnist')\n",
    "data = mnist.train.images\n",
    "labels = np.asarray(mnist.train.labels, dtype=np.int32)\n",
    "test_data = mnist.test.images\n",
    "test_labels = np.asarray(mnist.test.labels, dtype=np.int32)\n",
    "\n",
    "# limit size of datasets for a faster experiment\n",
    "max_examples = 10000\n",
    "data = data[:max_examples]\n",
    "labels = labels[:max_examples]\n",
    "\n",
    "\n",
    "def display(i):\n",
    "    img = test_data[i]\n",
    "    plt.title('Example %d. Label: %d' % (i, test_labels[i]))\n",
    "    plt.imshow(img.reshape((28, 28)), cmap=plt.cm.gray_r)\n",
    "\n",
    "\n",
    "display(0)  # display example 0, label 7\n",
    "display(1)  # display example 1, label 2\n",
    "display(8)  # display example 8, label 5\n",
    "\n",
    "# fit a linear classifier\n",
    "feature_columns = learn.infer_real_valued_columns_from_input(data)\n",
    "classifier = learn.LinearClassifier(feature_columns=feature_columns, n_classes=10)\n",
    "classifier.fit(data, labels, batch_size=100, steps=1000)\n",
    "\n",
    "# evaluate linear classifier accuracy\n",
    "classifier.evaluate(test_data, test_labels)\n",
    "print(classifier.evaluate(test_data, test_labels)[\"accuracy\"])\n",
    "\n",
    "# this will be classified correctly:\n",
    "prediction = classifier.predict(np.array([test_data[0]], dtype=float), as_iterable=False)\n",
    "print(\"Predicted %d, Label: %d\" % (prediction, test_labels[0]))\n",
    "display(0)\n",
    "\n",
    "# this will be classified incorrectly:\n",
    "prediction = classifier.predict(np.array([test_data[0]], dtype=float), as_iterable=False)\n",
    "print(\"Predicted %d, Label: %d\" % (prediction, test_labels[0]))\n",
    "display(8)\n",
    "\n",
    "# visualize learned weights\n",
    "for var in classifier.get_variable_names():\n",
    "    print(\"var:\", var, \"=\", classifier.get_variable_value(var))\n",
    "    \n",
    "weights = classifier.get_variable_value(\"linear//weight/d/linear//weight/part_0/Ftrl_1\")\n",
    "f, axes = plt.subplots(2, 5, figsize=(10, 4))\n",
    "axes = axes.reshape(-1)\n",
    "for i in range(len(axes)):\n",
    "    a = axes[i]\n",
    "    a.imshow(weights.T[i].reshape(28, 28), cmap=plt.cm.seismic)\n",
    "    a.set_title(i)\n",
    "    a.set_xticks(())  # ticks be gone\n",
    "    a.set_yticks(())\n",
    "plt.show()"
   ]
  },
  {
   "cell_type": "markdown",
   "metadata": {},
   "source": [
    "--------------------\n",
    "__\"And we know that for those who love God all things work together for good, for those who are called according to his purpose.\"__ - Romans 8:38\n",
    "\n",
    "---------------------"
   ]
  }
 ],
 "metadata": {
  "kernelspec": {
   "display_name": "Python 3",
   "language": "python",
   "name": "python3"
  },
  "language_info": {
   "codemirror_mode": {
    "name": "ipython",
    "version": 3
   },
   "file_extension": ".py",
   "mimetype": "text/x-python",
   "name": "python",
   "nbconvert_exporter": "python",
   "pygments_lexer": "ipython3",
   "version": "3.6.5"
  }
 },
 "nbformat": 4,
 "nbformat_minor": 2
}
