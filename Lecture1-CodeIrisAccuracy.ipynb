{
 "cells": [
  {
   "cell_type": "markdown",
   "metadata": {},
   "source": [
    "# Iris Accuracy Measurement \n",
    "\n",
    "Contributors - Group 5: Adelami Niyi Victor, Ngwaba Joseph, Stephen Ahmed\n",
    "\n",
    "## Hello World - Machine Learning Recipes\n",
    "\n",
    "For this excercise, watch this video [Hello World - Machine Learning Recipes #1](https://www.youtube.com/watch?v=cKxRvEZd3Mw)\n",
    "\n",
    "Machine Learning is an aspect of artificial intelligence which is able to do more than deep blue check of the earlier artificial intelligence version, machine learning is able to learn on its own by studying the variations between a lot of refined datasets, through experience without explicit hardcoded rules. Machine learning helps in solving the problem of variations in data, without machine learning it will be difficult to write codes that can do simple tasks like picture recognition\n",
    "\n",
    "This first task is about writing the Machine Learning's version of Hello World . \n",
    "For this task, we will use KNeighborsClassifier, iris dataset, sklearn library and accuracy score method of sklearn.\n",
    "\n",
    "The Iris dataset consist of three types of iris flowers which are:\n",
    "\n",
    "                  Flower      |    Label\n",
    "                ==============================\n",
    "                Setosa        |      0\n",
    "                Vesicolor     |      1\n",
    "                Virginica     |      2\n",
    "    \n",
    "These flowers are classified based on four features which are:\n",
    "    - Sepal length\n",
    "    - Sepal width\n",
    "    - Petal length\n",
    "    - Petal width\n",
    "    \n",
    "there are three steps to follow when writing a supervised learning program which are: \n",
    "1. Collect Training Data \n",
    "2. Train Classifier\n",
    "3. Make prediction\n",
    "\n",
    "The learning algorithm gets knowledge by finding patterns in a training algorithm, using fit method of the classifier \n",
    " \n",
    "### Step 1: Collect training data\n",
    "__________\n",
    "The training data consist of examples of problems to solve based on the features and  label. The feature is the input data while the labels are the desired output\n",
    "\n",
    "To collect our training data, we will:\n",
    "\n",
    "    - Import load_iris from sklearn.datasets\n",
    "    - Create an iris object from load_iris()\n",
    "    - Using the iris object, save the data into x and target into y\n",
    "    - import train_test_split and split the data from X and y into X_train, X_test, y_train and y_test\n",
    "    \n",
    "### Step 2: Train Classifier\n",
    "__________\n",
    "The data samples will be used to train the classifier. KNeighborsClassifier is the type of classifier that we will use in this scenario\n",
    "\n",
    "To do that, we will\n",
    "\n",
    "    - Create a classifier object using the KNeighborsClassifier\n",
    "    - Train the model with the train data using fit method\n",
    "    \n",
    "### Step 3: Make prediction\n",
    "___________\n",
    "Based on the classified data and training, predict with test data by using predict method in the calssifier object. \n",
    "\n",
    "\n",
    "### Step 4: Measure Accuracy\n",
    "___________\n",
    "Based on the prediction results and the labels, compute the accuracy or the performance of the training model.\n"
   ]
  },
  {
   "cell_type": "code",
   "execution_count": 36,
   "metadata": {},
   "outputs": [
    {
     "name": "stdout",
     "output_type": "stream",
     "text": [
      "Train: X shape:(120, 4), y shape:(120,)\n",
      "Test:  X shape:(30, 4), y shape:(30,)\n",
      "y_hat: [0 0 0 0 1 1 1 1 1 1 2 0 0 2 2 1 2 0 0 2 2 1 1 2 1 2 2 2 0 1]\n",
      "label: [0 0 0 0 1 1 1 2 1 1 2 0 0 1 2 1 2 0 0 2 2 2 1 2 1 2 2 2 0 1]\n",
      "accuracy =  0.9\n",
      "accuracy =  0.9\n"
     ]
    }
   ],
   "source": [
    "from sklearn.datasets import load_iris      # import load_iris fro sklearn.datasets\n",
    "from sklearn.model_selection import train_test_split\n",
    "from sklearn.neighbors import KNeighborsClassifier\n",
    "from sklearn.metrics import accuracy_score\n",
    "\n",
    "# To get rid of Warning ...skearn/cross_validation.py:44: DeprecationWarning:\n",
    "# Use from sklearn.model_selection instead of sklearn.cross_validation\n",
    "\n",
    "iris = load_iris()   # Create an iris object from load_iris\n",
    "\n",
    "# Using the iris object, save the data into x and target into y\n",
    "X = iris.data\n",
    "y = iris.target\n",
    "\n",
    "X_train, X_test, y_train, y_test = train_test_split(X, y, test_size = .2)\n",
    "print('Train: X shape:{}, y shape:{}'.format(X_train.shape, y_train.shape))\n",
    "print('Test:  X shape:{}, y shape:{}'.format(X_test.shape, y_test.shape))\n",
    "\n",
    "# Using the KNeighborsClassifier, create a classifier object\n",
    "#clf = KNeighborsClassifier()\n",
    "\n",
    "from sklearn import tree\n",
    "clf = tree.DecisionTreeClassifier()\n",
    "\n",
    "# classify the data using fit \n",
    "clf.fit(X_train, y_train)\n",
    "\n",
    "# make predictions with the classifier\n",
    "y_hat = clf.predict(X_test)\n",
    "print('y_hat:', y_hat)\n",
    "print('label:', y_test)\n",
    "\n",
    "# using my own computation \n",
    "diff = sum(1 for i, j in zip(y_hat, y_test) if i != j)\n",
    "print('accuracy = ', 1.0 - diff / len(y_hat))\n",
    "\n",
    "# using - the library function to measure the accuracy of the classifier\n",
    "print('accuracy = ', accuracy_score(y_test, y_hat))"
   ]
  },
  {
   "cell_type": "markdown",
   "metadata": {},
   "source": [
    "### Plot a decision tree"
   ]
  },
  {
   "cell_type": "code",
   "execution_count": 34,
   "metadata": {},
   "outputs": [
    {
     "data": {
      "text/plain": [
       "True"
      ]
     },
     "execution_count": 34,
     "metadata": {},
     "output_type": "execute_result"
    }
   ],
   "source": [
    "from sklearn.externals.six import StringIO\n",
    "import pydotplus\n",
    "\n",
    "dot_data = StringIO()\n",
    "tree.export_graphviz(clf,\n",
    "                    out_file=dot_data,\n",
    "                    feature_names=iris.feature_names,\n",
    "                    class_names=iris.target_names,\n",
    "                    filled=True, rounded=True,\n",
    "                    impurity=False)\n",
    "\n",
    "graph = pydotplus.graph_from_dot_data(dot_data.getvalue())\n",
    "graph.write_pdf(\"iris.pdf\")"
   ]
  },
  {
   "cell_type": "code",
   "execution_count": null,
   "metadata": {},
   "outputs": [],
   "source": []
  }
 ],
 "metadata": {
  "kernelspec": {
   "display_name": "Python 3",
   "language": "python",
   "name": "python3"
  },
  "language_info": {
   "codemirror_mode": {
    "name": "ipython",
    "version": 3
   },
   "file_extension": ".py",
   "mimetype": "text/x-python",
   "name": "python",
   "nbconvert_exporter": "python",
   "pygments_lexer": "ipython3",
   "version": "3.6.4"
  }
 },
 "nbformat": 4,
 "nbformat_minor": 2
}
